{
 "cells": [
  {
   "cell_type": "code",
   "execution_count": 29,
   "metadata": {
    "scrolled": false
   },
   "outputs": [],
   "source": [
    "from PIL import Image\n",
    "import pytesseract\n",
    "import argparse\n",
    "import cv2\n",
    "import os"
   ]
  },
  {
   "cell_type": "code",
   "execution_count": 28,
   "metadata": {},
   "outputs": [
    {
     "name": "stdout",
     "output_type": "stream",
     "text": [
      "AMAZON.CQM, INC.\n",
      "\n",
      "CONSOLIDATED BALANCE SHEETS\n",
      "(in .11 us, exceplper share data)\n",
      "\n",
      " \n",
      "\n",
      "   \n",
      "\n",
      " \n",
      "\n",
      "December 31,\n",
      "1016 20] 7\n",
      "ASSETS\n",
      "Current assets:\n",
      "Cash and cash equivalems 3 19,334 3 20,522\n",
      "Marketable securities 6,647 10,464\n",
      "Inventories 1 1,461 16,047\n",
      "Accounts receivable, net and other 8,339 13,164\n",
      "T0131 current asses 45,781 60,197\n",
      "Property and equipment, net 29,114 48,866\n",
      "Goodwill 3,784 13,350\n",
      "Other assets 4,723 8,897\n",
      "Total asses 3 83,402 3 131,310\n",
      "LIABILITIES AN OCKHOLDERS‘ E — —\n",
      "Current liabilities:\n",
      "Accounts payable 3 25,309 3 34,616\n",
      "Accrued expenses and other 13,739 18,170\n",
      "Uneamed revenue 4,768 5,097\n",
      "Tom current liabilities 43,816 57,883\n",
      "Long-term debt 7,694 24,743\n",
      "Other long—term liabil es 12,607 20,975\n",
      "Commitments and contingencies (Note 7)\n",
      "Stockholdels’ equity:\n",
      "Preferred stock, $0.01 par Value:\n",
      "Authorized shares 7 500\n",
      "Issued and outstanding shares 7 none 7 7\n",
      "Common stock, $0.01 paxvalue:\n",
      "Authorized shares 7 5,000\n",
      "Issued shares 7 500 and 507\n",
      "Omstanding sharesi477 and 484 5 5\n",
      "Treasury stock, at cost (1,837) (1,837)\n",
      "Additional paid-in capital 17,186 21,389\n",
      "Accumulated other comprehensive 10$ (935) (484)\n",
      "Retained earnings 4,916 8,636\n",
      "Total stockholders’ equity 19,285 27,709\n",
      "Total liabilities and stockholders‘ equity 83 02 5 131,310\n",
      "\n",
      "See accompanying notes to consolidated ﬁnancial statements.\n"
     ]
    }
   ],
   "source": [
    "print(pytesseract.image_to_string(Image.open('balance_sheet.png')))"
   ]
  },
  {
   "cell_type": "code",
   "execution_count": 18,
   "metadata": {},
   "outputs": [
    {
     "data": {
      "text/plain": [
       "<module 'wand.compat' from '/Applications/anaconda3/lib/python3.6/site-packages/wand/compat.py'>"
      ]
     },
     "execution_count": 18,
     "metadata": {},
     "output_type": "execute_result"
    }
   ],
   "source": [
    "wand.compat"
   ]
  },
  {
   "cell_type": "code",
   "execution_count": null,
   "metadata": {
    "collapsed": true
   },
   "outputs": [],
   "source": []
  }
 ],
 "metadata": {
  "kernelspec": {
   "display_name": "Python 3",
   "language": "python",
   "name": "python3"
  },
  "language_info": {
   "codemirror_mode": {
    "name": "ipython",
    "version": 3
   },
   "file_extension": ".py",
   "mimetype": "text/x-python",
   "name": "python",
   "nbconvert_exporter": "python",
   "pygments_lexer": "ipython3",
   "version": "3.6.3"
  }
 },
 "nbformat": 4,
 "nbformat_minor": 2
}
